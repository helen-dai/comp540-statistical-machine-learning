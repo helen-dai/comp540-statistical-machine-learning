{
 "cells": [
  {
   "cell_type": "markdown",
   "metadata": {},
   "source": [
    "## Extra Credit: Building regularized models for Boston data set\n",
    "Perform a bias variance analysis of the Boston housing data set with the thirteen predictors, following the steps on the simple data set above. Use sklearn's  built-in functions to split the data into training, validation and test sets. What is the lowest achievable error on the test set with $\\lambda = 0$? Select the best value for $\\lambda$ and report the test set error with the best $\\lambda$. Use the technique of adding features to extend each column of the Boston data set with powers of the values in the column. Repeat the bias-variance analysis with quadratic and cubic features. What is the test set error with quadratic features with the best $\\lambda$ chosen with the validation set? What is the test set error with cubic features with the best $\\lambda$ chosen with the validation set? Put your analysis code in a separate Python script or notebook called bostonexpt.py or bostonexpt.ipynb. Present your results analytically with plots to support your findings. Discuss the impact of regularization for building good models for the Boston housing data set."
   ]
  },
  {
   "cell_type": "markdown",
   "metadata": {},
   "source": [
    "## Load Training Data"
   ]
  },
  {
   "cell_type": "code",
   "execution_count": 178,
   "metadata": {},
   "outputs": [
    {
     "name": "stdout",
     "output_type": "stream",
     "text": [
      "The autoreload extension is already loaded. To reload it, use:\n",
      "  %reload_ext autoreload\n"
     ]
    }
   ],
   "source": [
    "import numpy as np\n",
    "import matplotlib.pyplot as plt\n",
    "import utils\n",
    "import plot_utils\n",
    "from reg_linear_regressor_multi import RegularizedLinearReg_SquaredLoss\n",
    "from sklearn.datasets import load_boston\n",
    "from sklearn.model_selection import train_test_split\n",
    "\n",
    "# This is a bit of magic to make matplotlib figures appear inline in the notebook\n",
    "# rather than in a new window.\n",
    "\n",
    "%matplotlib inline\n",
    "plt.rcParams['figure.figsize'] = (10.0, 8.0) # set default size of plots\n",
    "plt.rcParams['image.interpolation'] = 'nearest'\n",
    "plt.rcParams['image.cmap'] = 'gray'\n",
    "\n",
    "# Some more magic so that the notebook will reload external python modules;\n",
    "# see http://stackoverflow.com/questions/1907993/autoreload-of-modules-in-ipython\n",
    "\n",
    "%load_ext autoreload\n",
    "%autoreload 2\n",
    "\n",
    "# Load Training Data\n",
    "data_boston = load_boston()\n",
    "X, y = data_boston['data'], data_boston['target']\n",
    "\n",
    "# Feature Normalization\n",
    "X_norm, mu, sigma = utils.feature_normalize(X)\n",
    "\n",
    "# append a column of ones to matrix X\n",
    "XX = np.vstack([np.ones((X_norm.shape[0],)),X_norm.T]).T\n",
    "\n",
    "# split the data into training, validation and test sets\n",
    "X_tmp, X_test, y_tmp, y_test = train_test_split(XX, y, test_size=0.2, random_state=5)\n",
    "X_train, X_val, y_train, y_val = train_test_split(X_tmp, y_tmp, test_size=0.2, random_state=5)"
   ]
  },
  {
   "cell_type": "markdown",
   "metadata": {},
   "source": [
    "## Training with λ = 0"
   ]
  },
  {
   "cell_type": "code",
   "execution_count": 179,
   "metadata": {},
   "outputs": [
    {
     "name": "stdout",
     "output_type": "stream",
     "text": [
      "Optimization terminated successfully.\n",
      "         Current function value: 10.895407\n",
      "         Iterations: 24\n",
      "         Function evaluations: 25\n",
      "         Gradient evaluations: 25\n",
      "test error with λ = 0:  10.731510797030737\n"
     ]
    }
   ],
   "source": [
    "regressor = RegularizedLinearReg_SquaredLoss()\n",
    "theta = regressor.train(X_train, y_train, 0.0, 1000)\n",
    "test_err = regressor.loss(theta, X_test, y_test, 0)\n",
    "print ('test error with λ = 0: ', test_err)"
   ]
  },
  {
   "cell_type": "markdown",
   "metadata": {},
   "source": [
    "## Adjusting the regularization parameter"
   ]
  },
  {
   "cell_type": "code",
   "execution_count": 180,
   "metadata": {},
   "outputs": [
    {
     "name": "stdout",
     "output_type": "stream",
     "text": [
      "Optimization terminated successfully.\n",
      "         Current function value: 10.895407\n",
      "         Iterations: 24\n",
      "         Function evaluations: 25\n",
      "         Gradient evaluations: 25\n",
      "Optimization terminated successfully.\n",
      "         Current function value: 10.895501\n",
      "         Iterations: 24\n",
      "         Function evaluations: 25\n",
      "         Gradient evaluations: 25\n",
      "Optimization terminated successfully.\n",
      "         Current function value: 10.895690\n",
      "         Iterations: 24\n",
      "         Function evaluations: 25\n",
      "         Gradient evaluations: 25\n",
      "Optimization terminated successfully.\n",
      "         Current function value: 10.896348\n",
      "         Iterations: 24\n",
      "         Function evaluations: 25\n",
      "         Gradient evaluations: 25\n",
      "Optimization terminated successfully.\n",
      "         Current function value: 10.898230\n",
      "         Iterations: 24\n",
      "         Function evaluations: 25\n",
      "         Gradient evaluations: 25\n",
      "Optimization terminated successfully.\n",
      "         Current function value: 10.904804\n",
      "         Iterations: 24\n",
      "         Function evaluations: 25\n",
      "         Gradient evaluations: 25\n",
      "Optimization terminated successfully.\n",
      "         Current function value: 10.923498\n",
      "         Iterations: 24\n",
      "         Function evaluations: 25\n",
      "         Gradient evaluations: 25\n",
      "Optimization terminated successfully.\n",
      "         Current function value: 10.987914\n",
      "         Iterations: 24\n",
      "         Function evaluations: 25\n",
      "         Gradient evaluations: 25\n",
      "Optimization terminated successfully.\n",
      "         Current function value: 11.164174\n",
      "         Iterations: 24\n",
      "         Function evaluations: 25\n",
      "         Gradient evaluations: 25\n",
      "Optimization terminated successfully.\n",
      "         Current function value: 11.713606\n",
      "         Iterations: 22\n",
      "         Function evaluations: 23\n",
      "         Gradient evaluations: 23\n",
      "Optimization terminated successfully.\n",
      "         Current function value: 12.965742\n",
      "         Iterations: 19\n",
      "         Function evaluations: 20\n",
      "         Gradient evaluations: 20\n",
      "Optimization terminated successfully.\n",
      "         Current function value: 15.949451\n",
      "         Iterations: 13\n",
      "         Function evaluations: 14\n",
      "         Gradient evaluations: 14\n",
      "Optimization terminated successfully.\n",
      "         Current function value: 20.806322\n",
      "         Iterations: 13\n",
      "         Function evaluations: 15\n",
      "         Gradient evaluations: 15\n",
      "Optimization terminated successfully.\n",
      "         Current function value: 28.080138\n",
      "         Iterations: 24\n",
      "         Function evaluations: 29\n",
      "         Gradient evaluations: 29\n"
     ]
    },
    {
     "data": {
      "image/png": "[encoded data removed]",
      "text/plain": [
       "<Figure size 720x576 with 1 Axes>"
      ]
     },
     "metadata": {
      "needs_background": "light"
     },
     "output_type": "display_data"
    }
   ],
   "source": [
    "reg_vec, error_train, error_val = utils.validation_curve(X_train,y_train,X_val,y_val)\n",
    "plot_utils.plot_lambda_selection(reg_vec, error_train, error_val)"
   ]
  },
  {
   "cell_type": "markdown",
   "metadata": {},
   "source": [
    "## Test error with the best 𝜆 = 0.001"
   ]
  },
  {
   "cell_type": "code",
   "execution_count": 182,
   "metadata": {},
   "outputs": [
    {
     "name": "stdout",
     "output_type": "stream",
     "text": [
      "Optimization terminated successfully.\n",
      "         Current function value: 10.895501\n",
      "         Iterations: 24\n",
      "         Function evaluations: 25\n",
      "         Gradient evaluations: 25\n",
      "test error with λ = 0.001: 10.731447170952947\n"
     ]
    }
   ],
   "source": [
    "reg = 0.001\n",
    "regressor = RegularizedLinearReg_SquaredLoss()\n",
    "theta = regressor.train(X_train, y_train, reg, 1000)\n",
    "test_err = regressor.loss(theta, X_test, y_test, 0)\n",
    "print (\"test error with λ = {}: {}\".format(reg, test_err))"
   ]
  },
  {
   "cell_type": "markdown",
   "metadata": {},
   "source": [
    "# Quadratic Features"
   ]
  },
  {
   "cell_type": "markdown",
   "metadata": {},
   "source": [
    "## Bias-variance analysis"
   ]
  },
  {
   "cell_type": "code",
   "execution_count": 115,
   "metadata": {
    "scrolled": false
   },
   "outputs": [
    {
     "name": "stdout",
     "output_type": "stream",
     "text": [
      "Warning: Maximum number of iterations has been exceeded.\n",
      "         Current function value: 3.047823\n",
      "         Iterations: 100\n",
      "         Function evaluations: 104\n",
      "         Gradient evaluations: 104\n",
      "Warning: Maximum number of iterations has been exceeded.\n",
      "         Current function value: 3.053475\n",
      "         Iterations: 100\n",
      "         Function evaluations: 104\n",
      "         Gradient evaluations: 104\n",
      "Warning: Maximum number of iterations has been exceeded.\n",
      "         Current function value: 3.064618\n",
      "         Iterations: 100\n",
      "         Function evaluations: 104\n",
      "         Gradient evaluations: 104\n",
      "Warning: Maximum number of iterations has been exceeded.\n",
      "         Current function value: 3.102019\n",
      "         Iterations: 100\n",
      "         Function evaluations: 104\n",
      "         Gradient evaluations: 104\n",
      "Warning: Maximum number of iterations has been exceeded.\n",
      "         Current function value: 3.197266\n",
      "         Iterations: 100\n",
      "         Function evaluations: 104\n",
      "         Gradient evaluations: 104\n",
      "Warning: Maximum number of iterations has been exceeded.\n",
      "         Current function value: 3.444951\n",
      "         Iterations: 100\n",
      "         Function evaluations: 104\n",
      "         Gradient evaluations: 104\n",
      "Warning: Maximum number of iterations has been exceeded.\n",
      "         Current function value: 3.865110\n",
      "         Iterations: 100\n",
      "         Function evaluations: 104\n",
      "         Gradient evaluations: 104\n",
      "Warning: Maximum number of iterations has been exceeded.\n",
      "         Current function value: 4.610332\n",
      "         Iterations: 100\n",
      "         Function evaluations: 104\n",
      "         Gradient evaluations: 104\n",
      "Optimization terminated successfully.\n",
      "         Current function value: 5.643032\n",
      "         Iterations: 88\n",
      "         Function evaluations: 91\n",
      "         Gradient evaluations: 91\n",
      "Optimization terminated successfully.\n",
      "         Current function value: 7.245569\n",
      "         Iterations: 54\n",
      "         Function evaluations: 58\n",
      "         Gradient evaluations: 58\n",
      "Optimization terminated successfully.\n",
      "         Current function value: 9.049380\n",
      "         Iterations: 34\n",
      "         Function evaluations: 40\n",
      "         Gradient evaluations: 40\n",
      "Optimization terminated successfully.\n",
      "         Current function value: 11.319568\n",
      "         Iterations: 23\n",
      "         Function evaluations: 29\n",
      "         Gradient evaluations: 29\n",
      "Optimization terminated successfully.\n",
      "         Current function value: 14.187763\n",
      "         Iterations: 21\n",
      "         Function evaluations: 30\n",
      "         Gradient evaluations: 30\n",
      "Optimization terminated successfully.\n",
      "         Current function value: 19.271224\n",
      "         Iterations: 22\n",
      "         Function evaluations: 36\n",
      "         Gradient evaluations: 36\n"
     ]
    },
    {
     "data": {
      "image/png": "[encoded data removed]",
      "text/plain": [
       "<Figure size 720x576 with 1 Axes>"
      ]
     },
     "metadata": {
      "needs_background": "light"
     },
     "output_type": "display_data"
    }
   ],
   "source": [
    "from sklearn.preprocessing import PolynomialFeatures\n",
    "\n",
    "pf = PolynomialFeatures(degree=2, include_bias=False)\n",
    "X, y = data_boston['data'], data_boston['target']\n",
    "X = pf.fit_transform(X)\n",
    "\n",
    "X_norm, mu, sigma = utils.feature_normalize(X)\n",
    "XX = np.vstack([np.ones((X_norm.shape[0],)),X_norm.T]).T\n",
    "X_tmp, X_test, y_tmp, y_test = train_test_split(XX, y, test_size=0.2, random_state=5)\n",
    "X_train, X_val, y_train, y_val = train_test_split(X_tmp, y_tmp, test_size=0.2, random_state=5)\n",
    "\n",
    "reg_vec, error_train, error_val = utils.validation_curve(X_train,y_train,X_val,y_val)\n",
    "plot_utils.plot_lambda_selection(reg_vec, error_train, error_val)"
   ]
  },
  {
   "cell_type": "markdown",
   "metadata": {},
   "source": [
    "## Test error with the best 𝜆 = 3.0"
   ]
  },
  {
   "cell_type": "code",
   "execution_count": 116,
   "metadata": {},
   "outputs": [
    {
     "name": "stdout",
     "output_type": "stream",
     "text": [
      "Optimization terminated successfully.\n",
      "         Current function value: 5.643032\n",
      "         Iterations: 88\n",
      "         Function evaluations: 91\n",
      "         Gradient evaluations: 91\n",
      "test error with λ = 3.0:  4.611468305431875\n"
     ]
    }
   ],
   "source": [
    "reg = 3.0\n",
    "regressor = RegularizedLinearReg_SquaredLoss()\n",
    "theta = regressor.train(X_train, y_train, reg, 1000)\n",
    "test_err = regressor.loss(theta, X_test, y_test, 0)\n",
    "print (\"test error with λ = {}: {}\".format(reg, test_err))"
   ]
  },
  {
   "cell_type": "markdown",
   "metadata": {},
   "source": [
    "# Cubic Features"
   ]
  },
  {
   "cell_type": "markdown",
   "metadata": {},
   "source": [
    "## bias-variance analysis"
   ]
  },
  {
   "cell_type": "code",
   "execution_count": 135,
   "metadata": {},
   "outputs": [
    {
     "name": "stdout",
     "output_type": "stream",
     "text": [
      "Warning: Maximum number of iterations has been exceeded.\n",
      "         Current function value: 1.188524\n",
      "         Iterations: 100\n",
      "         Function evaluations: 108\n",
      "         Gradient evaluations: 108\n",
      "Warning: Maximum number of iterations has been exceeded.\n",
      "         Current function value: 1.193587\n",
      "         Iterations: 100\n",
      "         Function evaluations: 108\n",
      "         Gradient evaluations: 108\n",
      "Warning: Maximum number of iterations has been exceeded.\n",
      "         Current function value: 1.203597\n",
      "         Iterations: 100\n",
      "         Function evaluations: 108\n",
      "         Gradient evaluations: 108\n",
      "Warning: Maximum number of iterations has been exceeded.\n",
      "         Current function value: 1.237451\n",
      "         Iterations: 100\n",
      "         Function evaluations: 108\n",
      "         Gradient evaluations: 108\n",
      "Warning: Maximum number of iterations has been exceeded.\n",
      "         Current function value: 1.325264\n",
      "         Iterations: 100\n",
      "         Function evaluations: 108\n",
      "         Gradient evaluations: 108\n",
      "Warning: Maximum number of iterations has been exceeded.\n",
      "         Current function value: 1.560294\n",
      "         Iterations: 100\n",
      "         Function evaluations: 108\n",
      "         Gradient evaluations: 108\n",
      "Warning: Maximum number of iterations has been exceeded.\n",
      "         Current function value: 1.953157\n",
      "         Iterations: 100\n",
      "         Function evaluations: 108\n",
      "         Gradient evaluations: 108\n",
      "Warning: Maximum number of iterations has been exceeded.\n",
      "         Current function value: 2.567512\n",
      "         Iterations: 100\n",
      "         Function evaluations: 108\n",
      "         Gradient evaluations: 108\n",
      "Optimization terminated successfully.\n",
      "         Current function value: 3.286845\n",
      "         Iterations: 94\n",
      "         Function evaluations: 102\n",
      "         Gradient evaluations: 102\n",
      "Optimization terminated successfully.\n",
      "         Current function value: 4.264441\n",
      "         Iterations: 62\n",
      "         Function evaluations: 69\n",
      "         Gradient evaluations: 69\n",
      "Optimization terminated successfully.\n",
      "         Current function value: 5.455530\n",
      "         Iterations: 42\n",
      "         Function evaluations: 52\n",
      "         Gradient evaluations: 52\n",
      "Optimization terminated successfully.\n",
      "         Current function value: 7.362923\n",
      "         Iterations: 34\n",
      "         Function evaluations: 44\n",
      "         Gradient evaluations: 44\n",
      "Optimization terminated successfully.\n",
      "         Current function value: 9.758815\n",
      "         Iterations: 27\n",
      "         Function evaluations: 46\n",
      "         Gradient evaluations: 46\n",
      "Optimization terminated successfully.\n",
      "         Current function value: 13.139251\n",
      "         Iterations: 38\n",
      "         Function evaluations: 52\n",
      "         Gradient evaluations: 52\n"
     ]
    },
    {
     "data": {
      "image/png": "[encoded data removed]",
      "text/plain": [
       "<Figure size 720x576 with 1 Axes>"
      ]
     },
     "metadata": {
      "needs_background": "light"
     },
     "output_type": "display_data"
    }
   ],
   "source": [
    "from sklearn.preprocessing import PolynomialFeatures\n",
    "\n",
    "pf = PolynomialFeatures(degree=3, include_bias=False)\n",
    "X, y = data_boston['data'], data_boston['target']\n",
    "X = pf.fit_transform(X)\n",
    "\n",
    "X_norm, mu, sigma = utils.feature_normalize(X)\n",
    "XX = np.vstack([np.ones((X_norm.shape[0],)),X_norm.T]).T\n",
    "X_tmp, X_test, y_tmp, y_test = train_test_split(XX, y, test_size=0.2, random_state=5)\n",
    "X_train, X_val, y_train, y_val = train_test_split(X_tmp, y_tmp, test_size=0.2, random_state=5)\n",
    "\n",
    "reg_vec, error_train, error_val = utils.validation_curve(X_train,y_train,X_val,y_val)\n",
    "plot_utils.plot_lambda_selection(reg_vec, error_train, error_val)"
   ]
  },
  {
   "cell_type": "markdown",
   "metadata": {},
   "source": [
    "## Test error with the best 𝜆 = 100.0"
   ]
  },
  {
   "cell_type": "code",
   "execution_count": 136,
   "metadata": {},
   "outputs": [
    {
     "name": "stdout",
     "output_type": "stream",
     "text": [
      "Optimization terminated successfully.\n",
      "         Current function value: 7.362923\n",
      "         Iterations: 34\n",
      "         Function evaluations: 44\n",
      "         Gradient evaluations: 44\n",
      "test error with λ = 100.0: 5.173790235215558\n"
     ]
    }
   ],
   "source": [
    "reg = 100.0\n",
    "regressor = RegularizedLinearReg_SquaredLoss()\n",
    "theta = regressor.train(X_train, y_train, reg, 1000)\n",
    "test_err = regressor.loss(theta, X_test, y_test, 0)\n",
    "print (\"test error with λ = {}: {}\".format(reg, test_err))"
   ]
  },
  {
   "cell_type": "markdown",
   "metadata": {},
   "source": [
    "## Summary"
   ]
  },
  {
   "cell_type": "markdown",
   "metadata": {},
   "source": [
    "1. Linear model: the best test error with λ = 0.001: 10.7314.\n",
    "\n",
    "    Both the training error and validation error are high, showing high bias for the model. In this case, regularization has little effect in improving model performance.\n",
    "    \n",
    "    \n",
    "2. Quadratic model: the best test error with λ = 3.0 is 4.6114.\n",
    "\n",
    "    With proper regularization λ = 3.0, quadratic model fits the model well and provides the best result for the test set among the three models.\n",
    "    \n",
    "    \n",
    "3. Cubic model: the best test error with λ = 100.0: 5.1737.\n",
    "\n",
    "    There is a huge gap between training error and validation error in the lower end of regularization, showing high variance for the model. The best choice of λ is large, which provides strong penalties for complex models."
   ]
  }
 ],
 "metadata": {
  "kernelspec": {
   "display_name": "Python 3",
   "language": "python",
   "name": "python3"
  },
  "language_info": {
   "codemirror_mode": {
    "name": "ipython",
    "version": 3
   },
   "file_extension": ".py",
   "mimetype": "text/x-python",
   "name": "python",
   "nbconvert_exporter": "python",
   "pygments_lexer": "ipython3",
   "version": "3.5.2"
  }
 },
 "nbformat": 4,
 "nbformat_minor": 2
}
